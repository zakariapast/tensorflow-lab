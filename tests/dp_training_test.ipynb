{
 "cells": [
  {
   "cell_type": "code",
   "execution_count": null,
   "id": "4ca5ea77",
   "metadata": {},
   "outputs": [],
   "source": [
    "# ✅ Install dependencies\n",
    "!pip install -U tensorflow==2.15 tensorflow-privacy==0.9\n"
   ]
  },
  {
   "cell_type": "code",
   "execution_count": null,
   "id": "52d1b1f7",
   "metadata": {},
   "outputs": [],
   "source": [
    "# ✅ Imports\n",
    "import tensorflow as tf\n",
    "from tensorflow_privacy.privacy.optimizers.dp_optimizer_keras import DPKerasAdamOptimizer\n",
    "import numpy as np\n",
    "import matplotlib.pyplot as plt\n"
   ]
  },
  {
   "cell_type": "code",
   "execution_count": null,
   "id": "902c4079",
   "metadata": {},
   "outputs": [],
   "source": [
    "# ✅ Load and preprocess MNIST\n",
    "(x_train, y_train), (x_test, y_test) = tf.keras.datasets.mnist.load_data()\n",
    "x_train = x_train.astype('float32') / 255.0\n",
    "x_test  = x_test.astype('float32') / 255.0\n",
    "x_train = x_train[..., tf.newaxis]\n",
    "x_test  = x_test[..., tf.newaxis]\n",
    "\n",
    "print(\"Training shape:\", x_train.shape)\n",
    "print(\"Test shape:\", x_test.shape)\n"
   ]
  },
  {
   "cell_type": "code",
   "execution_count": null,
   "id": "ce20df83",
   "metadata": {},
   "outputs": [],
   "source": [
    "# ✅ Build model\n",
    "model = tf.keras.Sequential([\n",
    "    tf.keras.layers.Flatten(input_shape=(28, 28, 1)),\n",
    "    tf.keras.layers.Dense(128, activation='relu'),\n",
    "    tf.keras.layers.Dense(10)\n",
    "])\n"
   ]
  },
  {
   "cell_type": "code",
   "execution_count": null,
   "id": "332ddbde",
   "metadata": {},
   "outputs": [],
   "source": [
    "# ✅ Compile with Differential Privacy\n",
    "dp_optimizer = DPKerasAdamOptimizer(\n",
    "    l2_norm_clip=1.0,\n",
    "    noise_multiplier=1.1,\n",
    "    num_microbatches=256,\n",
    "    learning_rate=0.001\n",
    ")\n",
    "\n",
    "model.compile(\n",
    "    optimizer=dp_optimizer,\n",
    "    loss=tf.keras.losses.SparseCategoricalCrossentropy(from_logits=True),\n",
    "    metrics=['accuracy']\n",
    ")\n"
   ]
  },
  {
   "cell_type": "code",
   "execution_count": null,
   "id": "ca05fd6c",
   "metadata": {},
   "outputs": [],
   "source": [
    "# ✅ Train the model\n",
    "history = model.fit(\n",
    "    x_train, y_train,\n",
    "    epochs=5,\n",
    "    batch_size=256,\n",
    "    validation_split=0.1\n",
    ")\n"
   ]
  }
 ],
 "metadata": {},
 "nbformat": 4,
 "nbformat_minor": 5
}

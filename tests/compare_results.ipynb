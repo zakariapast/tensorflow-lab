{
 "cells": [
  {
   "cell_type": "markdown",
   "id": "cdd978f5",
   "metadata": {},
   "source": [
    "# 🧪 Model Comparison: Baseline vs Differential Privacy\n",
    "\n",
    "This notebook compares validation accuracy and loss between:\n",
    "\n",
    "- ✅ Baseline Model (no privacy)\n",
    "- 🔐 DP Model (using `DPKerasAdamOptimizer`)\n"
   ]
  },
  {
   "cell_type": "code",
   "execution_count": null,
   "id": "9ba90e80",
   "metadata": {},
   "outputs": [],
   "source": [
    "# Assumes you have these from your training notebooks:\n",
    "# baseline_history = <your baseline model's history>\n",
    "# dp_history = <your DP model's history>\n",
    "\n",
    "# Example: load from .npy if exported\n",
    "# baseline_history = np.load('baseline_history.npy', allow_pickle=True).item()\n",
    "# dp_history = np.load('dp_history.npy', allow_pickle=True).item()\n"
   ]
  },
  {
   "cell_type": "code",
   "execution_count": null,
   "id": "5214a448",
   "metadata": {},
   "outputs": [],
   "source": [
    "import matplotlib.pyplot as plt\n",
    "\n",
    "plt.plot(baseline_history['val_accuracy'], label='Baseline Val Acc', marker='o')\n",
    "plt.plot(dp_history['val_accuracy'], label='DP Val Acc', marker='x')\n",
    "plt.title('Validation Accuracy Comparison')\n",
    "plt.xlabel('Epoch')\n",
    "plt.ylabel('Accuracy')\n",
    "plt.legend()\n",
    "plt.grid(True)\n",
    "plt.show()\n"
   ]
  },
  {
   "cell_type": "code",
   "execution_count": null,
   "id": "d544f689",
   "metadata": {},
   "outputs": [],
   "source": [
    "plt.plot(baseline_history['val_loss'], label='Baseline Val Loss', marker='o')\n",
    "plt.plot(dp_history['val_loss'], label='DP Val Loss', marker='x')\n",
    "plt.title('Validation Loss Comparison')\n",
    "plt.xlabel('Epoch')\n",
    "plt.ylabel('Loss')\n",
    "plt.legend()\n",
    "plt.grid(True)\n",
    "plt.show()\n"
   ]
  },
  {
   "cell_type": "code",
   "execution_count": null,
   "id": "fb7a045a",
   "metadata": {},
   "outputs": [],
   "source": [
    "print(\"✅ Final Accuracy and Loss:\")\n",
    "\n",
    "print(f\"Baseline - Final Val Acc: {baseline_history['val_accuracy'][-1]*100:.2f}%, Val Loss: {baseline_history['val_loss'][-1]:.4f}\")\n",
    "print(f\"DP Model - Final Val Acc: {dp_history['val_accuracy'][-1]*100:.2f}%, Val Loss: {dp_history['val_loss'][-1]:.4f}\")\n"
   ]
  }
 ],
 "metadata": {},
 "nbformat": 4,
 "nbformat_minor": 5
}
